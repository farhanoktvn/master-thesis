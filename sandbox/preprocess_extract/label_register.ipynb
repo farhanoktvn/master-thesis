{
 "cells": [
  {
   "cell_type": "code",
   "execution_count": 8,
   "metadata": {},
   "outputs": [
    {
     "data": {
      "text/plain": [
       "PosixPath('/Users/farhanoktavian/imperial/thesis/sandbox/preprocess_extract')"
      ]
     },
     "execution_count": 8,
     "metadata": {},
     "output_type": "execute_result"
    }
   ],
   "source": [
    "import cv2\n",
    "import json\n",
    "import math\n",
    "import matplotlib.colors as colors\n",
    "import matplotlib.patches as mpatches\n",
    "import matplotlib.pyplot as plt\n",
    "import numpy as np\n",
    "import re\n",
    "\n",
    "from pathlib import Path\n",
    "from PIL import Image\n",
    "\n",
    "%matplotlib inline\n",
    "\n",
    "cwd = Path.cwd()\n",
    "cwd"
   ]
  },
  {
   "cell_type": "code",
   "execution_count": 9,
   "metadata": {},
   "outputs": [],
   "source": [
    "COLOR_DICT = {\n",
    "    'Blood': 'red',\n",
    "    'Blood vessel': 'blue',\n",
    "    'Arachnoid': 'green',\n",
    "    'Tumour Core': 'yellow',\n",
    "    'Cortical Surface': 'cyan',\n",
    "    'Tumour Margins': 'magenta',\n",
    "    'White Matter': 'white',\n",
    "}\n",
    "\n",
    "RGB_IMG_PATTERN = '.*\\.JPG'\n",
    "MASK_PATTERN = '.*\\.json'\n",
    "\n",
    "class SegmentedImage:\n",
    "\n",
    "    def __init__(self, img_path, mask_path=None):\n",
    "        self.img = self._import_image(img_path)\n",
    "        self.mask = self._import_mask(mask_path)\n",
    "    \n",
    "\n",
    "    def _import_image(self, img_path):\n",
    "        return np.asarray(Image.open(img_path))\n",
    "    \n",
    "\n",
    "    def _import_mask(self, mask_path):\n",
    "        if mask_path == None:\n",
    "            return None\n",
    "        seg_dict = json.load(mask_path.open())\n",
    "        return seg_dict\n",
    "\n",
    "\n",
    "# Image Plotting\n",
    "def plot_image(image_obj, ax=None):\n",
    "\n",
    "    if ax == None:\n",
    "        fig, ax = plt.subplots()\n",
    "\n",
    "    if hasattr(image_obj, 'img'):\n",
    "        img = image_obj.img\n",
    "        mask = image_obj.mask.get('shapes')\n",
    "        ax.imshow(img)\n",
    "    else:\n",
    "        img = image_obj\n",
    "        mask = None\n",
    "        ax.imshow(img, norm=colors.Normalize(), cmap='gray')\n",
    "    ax.axis('off')\n",
    "\n",
    "    if mask != None:\n",
    "        for shape in mask:\n",
    "            if shape['shape_type'] == 'linestrip':\n",
    "                x, y = zip(*shape['points'])\n",
    "                ax.plot(x, y, linewidth=2, color=COLOR_DICT[shape['label']], alpha=0.3)\n",
    "            if shape['shape_type'] == 'polygon':\n",
    "                x, y = zip(*shape['points'])\n",
    "                ax.fill(x, y, color=COLOR_DICT[shape['label']], alpha=0.3)\n",
    "\n",
    "\n",
    "def plot_images(image_objs):\n",
    "    fig, axes = plt.subplots(math.ceil(len(image_objs)/3), 3)\n",
    "    axes = axes.flatten()\n",
    "\n",
    "    for i, ax in enumerate(axes):\n",
    "        if i >= len(image_objs):\n",
    "            ax.axis('off')\n",
    "            continue\n",
    "        plot_image(image_objs[i], ax)\n",
    "    \n",
    "    plt.legend(bbox_to_anchor=(1,0), loc=\"lower right\", handles=[mpatches.Patch(color=COLOR_DICT[label], label=label) for label in COLOR_DICT.keys()])\n",
    "    plt.tight_layout()\n",
    "    plt.show()"
   ]
  },
  {
   "cell_type": "code",
   "execution_count": 10,
   "metadata": {},
   "outputs": [
    {
     "data": {
      "text/plain": [
       "dict_keys(['version', 'flags', 'shapes', 'imagePath', 'imageData', 'imageHeight', 'imageWidth'])"
      ]
     },
     "execution_count": 10,
     "metadata": {},
     "output_type": "execute_result"
    }
   ],
   "source": [
    "seg_folder = Path(cwd, 'data', 'definitive-segmentation', 'HS001 - Trial with capillaries excluded')\n",
    "seg_folders = [x for x in seg_folder.iterdir() if x.is_dir()]\n",
    "seg_folders.sort()\n",
    "\n",
    "seg_files = []\n",
    "for fold in seg_folders:\n",
    "    img_path = [x for x in fold.iterdir() if re.match(RGB_IMG_PATTERN, x.name)][0]\n",
    "    mask_path = [x for x in fold.iterdir() if re.match(MASK_PATTERN, x.name)][0]\n",
    "    seg_files.append(SegmentedImage(img_path, mask_path))\n",
    "\n",
    "seg_files[0].mask.keys()"
   ]
  }
 ],
 "metadata": {
  "kernelspec": {
   "display_name": "base",
   "language": "python",
   "name": "python3"
  },
  "language_info": {
   "codemirror_mode": {
    "name": "ipython",
    "version": 3
   },
   "file_extension": ".py",
   "mimetype": "text/x-python",
   "name": "python",
   "nbconvert_exporter": "python",
   "pygments_lexer": "ipython3",
   "version": "3.7.10"
  },
  "orig_nbformat": 4
 },
 "nbformat": 4,
 "nbformat_minor": 2
}
