{
 "cells": [
  {
   "cell_type": "code",
   "execution_count": 1,
   "metadata": {},
   "outputs": [],
   "source": [
    "import cv2\n",
    "import matplotlib.pyplot as plt\n",
    "import matplotlib.animation as animation\n",
    "import numpy as np\n",
    "import pandas as pd\n",
    "import re\n",
    "from PIL import Image\n",
    "from pathlib import Path"
   ]
  },
  {
   "cell_type": "code",
   "execution_count": 17,
   "metadata": {},
   "outputs": [
    {
     "name": "stdout",
     "output_type": "stream",
     "text": [
      "done\n"
     ]
    }
   ],
   "source": [
    "# Single\n",
    "sample_id = \"HS020\"\n",
    "run_id = \"Run06\"\n",
    "\n",
    "def read_image(img_dir):\n",
    "    img = cv2.imread(str(img_dir), cv2.IMREAD_GRAYSCALE)\n",
    "    return img\n",
    "\n",
    "if not Path(f\"result/{sample_id}\").exists():\n",
    "    Path(f\"result/{sample_id}\").mkdir(parents=True)\n",
    "\n",
    "mi = \"/Users/farhanoktavian/imperial/thesis/sandbox/regist_eval/dataset/registered_short/HS020/Run06/g_label.png\"\n",
    "si = \"/Users/farhanoktavian/imperial/thesis/sandbox/regist_eval/dataset/registered_short/HS020/Run06/g_spectral.png\"\n",
    "\n",
    "mi_img = read_image(mi)\n",
    "si_img = read_image(si)\n",
    "\n",
    "fig, ax = plt.subplots(figsize=(11,9))\n",
    "ax.set_axis_off()\n",
    "ims = [mi_img, si_img, si_img]\n",
    "\n",
    "plt.tight_layout()\n",
    "ax.imshow(ims[0], cmap=\"gray\", vmin=0, vmax=255)\n",
    "\n",
    "def animate(i):\n",
    "    ax.imshow(ims[i], cmap=\"gray\", vmin=0, vmax=255, animated=True)\n",
    "\n",
    "ani = animation.FuncAnimation(fig, animate, interval=1000, blit=False, frames=2)\n",
    "ani.save(f\"result/{sample_id}/{run_id}-nofine.mp4\")\n",
    "\n",
    "plt.close(\"all\")\n",
    "print(\"done\")"
   ]
  }
 ],
 "metadata": {
  "kernelspec": {
   "display_name": "base",
   "language": "python",
   "name": "python3"
  },
  "language_info": {
   "codemirror_mode": {
    "name": "ipython",
    "version": 3
   },
   "file_extension": ".py",
   "mimetype": "text/x-python",
   "name": "python",
   "nbconvert_exporter": "python",
   "pygments_lexer": "ipython3",
   "version": "3.7.10"
  },
  "orig_nbformat": 4
 },
 "nbformat": 4,
 "nbformat_minor": 2
}
