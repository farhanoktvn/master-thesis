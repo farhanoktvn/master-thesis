{
 "cells": [
  {
   "cell_type": "code",
   "execution_count": 35,
   "metadata": {},
   "outputs": [],
   "source": [
    "import cv2\n",
    "import matplotlib.pyplot as plt\n",
    "import matplotlib.animation as animation\n",
    "import numpy as np\n",
    "import pandas as pd\n",
    "import re\n",
    "from PIL import Image\n",
    "from pathlib import Path\n",
    "\n",
    "RAW_DIR = \"/Users/farhanoktavian/imperial/thesis/sandbox/dataset/raw\"\n",
    "STACKREG_DIR = \"/Users/farhanoktavian/imperial/thesis/sandbox/dataset/stackreg\"\n",
    "REG_TYPE = \"ptv\""
   ]
  },
  {
   "cell_type": "code",
   "execution_count": 38,
   "metadata": {},
   "outputs": [],
   "source": [
    "sample_id = \"HS020\"\n",
    "\n",
    "raw_sample_dir = Path(RAW_DIR) / sample_id\n",
    "regstack_sample_dir = Path(STACKREG_DIR) / sample_id\n",
    "\n",
    "raw_runs = sorted([x for x in raw_sample_dir.iterdir() if x.is_dir()])\n",
    "regstack_runs = sorted([x for x in regstack_sample_dir.iterdir() if x.is_dir()])"
   ]
  },
  {
   "cell_type": "code",
   "execution_count": 39,
   "metadata": {},
   "outputs": [],
   "source": [
    "run_filter = [\"Run06\"]\n",
    "run_pairs = []\n",
    "for run in regstack_runs:\n",
    "    if run.name not in run_filter:\n",
    "        continue\n",
    "    run_id = run.name\n",
    "    if run_id in [r.name for r in raw_runs]:\n",
    "        run_pairs.append((run_id, raw_sample_dir / run_id, run))"
   ]
  },
  {
   "cell_type": "code",
   "execution_count": 42,
   "metadata": {},
   "outputs": [
    {
     "name": "stdout",
     "output_type": "stream",
     "text": [
      "116 29\n",
      "done\n"
     ]
    }
   ],
   "source": [
    "# Left Right\n",
    "def read_image(img_dir):\n",
    "    img = cv2.imread(str(img_dir), cv2.IMREAD_GRAYSCALE)\n",
    "    return img\n",
    "\n",
    "if not Path(f\"result/{sample_id}\").exists():\n",
    "    Path(f\"result/{sample_id}\").mkdir(parents=True)\n",
    "\n",
    "for run_id, a, b in run_pairs:\n",
    "    raw_images = [read_image(x) for x in sorted(a.iterdir()) if x.suffix.lower() == \".png\"]\n",
    "\n",
    "    # Need to sort by number\n",
    "    regstack_paths = sorted(b.iterdir(), key=lambda f: int(re.sub('\\D', '', f.name)))\n",
    "    regstack_images = [read_image(x) for x in regstack_paths if x.suffix.lower() == \".png\"]\n",
    "    print(len(raw_images), len(regstack_images))\n",
    "\n",
    "    raw_length = len(raw_images)\n",
    "    reg_length = len(regstack_images)\n",
    "    if raw_length > 29:\n",
    "        length_skip = raw_length // 29\n",
    "        raw_images = raw_images[::length_skip]\n",
    "    if len(regstack_images) > 29:\n",
    "        length_skip = reg_length // 29\n",
    "        regstack_images = regstack_images[::length_skip]\n",
    "\n",
    "    \n",
    "    fig, axes = plt.subplots(1, 2, figsize=(15, 7))\n",
    "    \n",
    "    for ax in axes:\n",
    "        ax.set_axis_off()\n",
    "    ims = []\n",
    "\n",
    "    plt.tight_layout()\n",
    "    axes[0].imshow(raw_images[0], cmap=\"gray\", vmin=0, vmax=255)\n",
    "    axes[1].imshow(regstack_images[0], cmap=\"gray\", vmin=0, vmax=255)\n",
    "    \n",
    "    def animate(i):\n",
    "        axes[0].imshow(raw_images[i], cmap=\"gray\", vmin=0, vmax=255, animated=True)\n",
    "        axes[1].imshow(regstack_images[i], cmap=\"gray\", vmin=0, vmax=255, animated=True)\n",
    "    \n",
    "    ani = animation.FuncAnimation(fig, animate, interval=130, blit=False, frames=len(raw_images))\n",
    "    ani.save(f\"result/{sample_id}/{run_id}-{REG_TYPE}.mp4\")\n",
    "\n",
    "plt.close(\"all\")\n",
    "print(\"done\")"
   ]
  },
  {
   "cell_type": "code",
   "execution_count": 40,
   "metadata": {},
   "outputs": [
    {
     "name": "stdout",
     "output_type": "stream",
     "text": [
      "done\n"
     ]
    }
   ],
   "source": [
    "# Single\n",
    "def read_image(img_dir):\n",
    "    img = cv2.imread(str(img_dir), cv2.IMREAD_GRAYSCALE)\n",
    "    return img\n",
    "\n",
    "if not Path(f\"result/{sample_id}\").exists():\n",
    "    Path(f\"result/{sample_id}\").mkdir(parents=True)\n",
    "\n",
    "for run_id, a, b in run_pairs:\n",
    "    raw_images = [read_image(x) for x in sorted(a.iterdir()) if x.suffix.lower() == \".png\"]\n",
    "\n",
    "    raw_length = len(raw_images)\n",
    "    if raw_length > 29:\n",
    "        length_skip = raw_length // 29\n",
    "        raw_images = raw_images[::length_skip]\n",
    "\n",
    "    fig, ax = plt.subplots(figsize=(8,6))\n",
    "    ax.set_axis_off()\n",
    "    ims = []\n",
    "\n",
    "    plt.tight_layout()\n",
    "    ax.imshow(raw_images[0], cmap=\"gray\", vmin=0, vmax=255)\n",
    "    \n",
    "    def animate(i):\n",
    "        ax.imshow(raw_images[i], cmap=\"gray\", vmin=0, vmax=255, animated=True)\n",
    "    \n",
    "    ani = animation.FuncAnimation(fig, animate, interval=130, blit=False, frames=len(raw_images))\n",
    "    ani.save(f\"result/{sample_id}/{run_id}-single.mp4\")\n",
    "\n",
    "plt.close(\"all\")\n",
    "print(\"done\")"
   ]
  }
 ],
 "metadata": {
  "kernelspec": {
   "display_name": "base",
   "language": "python",
   "name": "python3"
  },
  "language_info": {
   "codemirror_mode": {
    "name": "ipython",
    "version": 3
   },
   "file_extension": ".py",
   "mimetype": "text/x-python",
   "name": "python",
   "nbconvert_exporter": "python",
   "pygments_lexer": "ipython3",
   "version": "3.7.10"
  },
  "orig_nbformat": 4
 },
 "nbformat": 4,
 "nbformat_minor": 2
}
