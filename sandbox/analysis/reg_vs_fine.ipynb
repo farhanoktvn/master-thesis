{
 "cells": [
  {
   "cell_type": "code",
   "execution_count": 2,
   "metadata": {},
   "outputs": [],
   "source": [
    "import cv2\n",
    "import matplotlib.pyplot as plt\n",
    "import matplotlib.animation as animation\n",
    "import numpy as np\n",
    "import pandas as pd\n",
    "import re\n",
    "import seaborn as sns\n",
    "from PIL import Image\n",
    "from pathlib import Path\n",
    "from IPython.display import clear_output\n",
    "\n",
    "from metrics import gmsd, ssim, psnr"
   ]
  },
  {
   "cell_type": "code",
   "execution_count": 3,
   "metadata": {},
   "outputs": [],
   "source": [
    "label_paths = [\n",
    "    Path(\"/Users/farhanoktavian/imperial/thesis/sandbox/regist_eval/dataset/registered_short/HS020/Run06/b_label.png\"),\n",
    "    Path(\"/Users/farhanoktavian/imperial/thesis/sandbox/regist_eval/dataset/registered_short/HS020/Run06/g_label.png\"),\n",
    "    Path(\"/Users/farhanoktavian/imperial/thesis/sandbox/regist_eval/dataset/registered_short/HS020/Run06/r_label.png\"),\n",
    "]\n",
    "\n",
    "spectral_paths = [\n",
    "    Path(\"/Users/farhanoktavian/imperial/thesis/sandbox/regist_eval/dataset/registered_short/HS020/Run06/b_spectral.png\"),\n",
    "    Path(\"/Users/farhanoktavian/imperial/thesis/sandbox/regist_eval/dataset/registered_short/HS020/Run06/g_spectral.png\"),\n",
    "    Path(\"/Users/farhanoktavian/imperial/thesis/sandbox/regist_eval/dataset/registered_short/HS020/Run06/r_spectral.png\"),\n",
    "]\n",
    "\n",
    "fine_paths = [\n",
    "    Path(\"/Users/farhanoktavian/imperial/thesis/sandbox/regist_eval/dataset/registered_short/HS020/Run06/b_fine.png\"),\n",
    "    Path(\"/Users/farhanoktavian/imperial/thesis/sandbox/regist_eval/dataset/registered_short/HS020/Run06/g_fine.png\"),\n",
    "    Path(\"/Users/farhanoktavian/imperial/thesis/sandbox/regist_eval/dataset/registered_short/HS020/Run06/r_fine.png\"),\n",
    "]"
   ]
  },
  {
   "cell_type": "code",
   "execution_count": 7,
   "metadata": {},
   "outputs": [
    {
     "name": "stdout",
     "output_type": "stream",
     "text": [
      "Blue\n",
      "GMSD No-Fine: 0.164\n",
      "GMSD Fine: 0.168\n",
      "SSIM No-Fine: 0.141\n",
      "SSIM Fine: 0.130\n",
      "PSNR No-Fine: 12.544\n",
      "PSNR Fine: 12.502\n",
      "\n",
      "Green\n",
      "GMSD No-Fine: 0.159\n",
      "GMSD Fine: 0.154\n",
      "SSIM No-Fine: 0.340\n",
      "SSIM Fine: 0.368\n",
      "PSNR No-Fine: 12.322\n",
      "PSNR Fine: 12.437\n",
      "\n",
      "Red\n",
      "GMSD No-Fine: 0.153\n",
      "GMSD Fine: 0.146\n",
      "SSIM No-Fine: 0.417\n",
      "SSIM Fine: 0.474\n",
      "PSNR No-Fine: 7.993\n",
      "PSNR Fine: 8.444\n",
      "\n"
     ]
    }
   ],
   "source": [
    "def read_image(img_dir):\n",
    "    img = cv2.imread(str(img_dir), cv2.IMREAD_GRAYSCALE)\n",
    "    return img\n",
    "\n",
    "for i in range(3):\n",
    "    label_img = read_image(label_paths[i])\n",
    "    spectral_img = read_image(spectral_paths[i])\n",
    "    fine_img = read_image(fine_paths[i])\n",
    "\n",
    "    if i == 0:\n",
    "        print(\"Blue\")\n",
    "    elif i == 1:\n",
    "        print(\"Green\")\n",
    "    else:\n",
    "        print(\"Red\")\n",
    "\n",
    "    print(f\"GMSD No-Fine: {gmsd(label_img, spectral_img):.3f}\")\n",
    "    print(f\"GMSD Fine: {gmsd(label_img, fine_img):.3f}\")\n",
    "    print(f\"SSIM No-Fine: {ssim(label_img, spectral_img):.3f}\")\n",
    "    print(f\"SSIM Fine: {ssim(label_img, fine_img):.3f}\")\n",
    "    print(f\"PSNR No-Fine: {psnr(label_img, spectral_img):.3f}\")\n",
    "    print(f\"PSNR Fine: {psnr(label_img, fine_img):.3f}\")\n",
    "    print()"
   ]
  },
  {
   "cell_type": "code",
   "execution_count": 6,
   "metadata": {},
   "outputs": [
    {
     "name": "stdout",
     "output_type": "stream",
     "text": [
      "done\n"
     ]
    }
   ],
   "source": [
    "# Left Right\n",
    "def read_image(img_dir):\n",
    "    img = cv2.imread(str(img_dir), cv2.IMREAD_GRAYSCALE)\n",
    "    return img\n",
    "\n",
    "for run_id, a, b in run_pairs:\n",
    "    raw_images = [read_image(x) for x in sorted(a.iterdir()) if x.suffix.lower() == \".png\"]\n",
    "\n",
    "    # Need to sort by number\n",
    "    regstack_paths = sorted(b.iterdir(), key=lambda f: int(re.sub('\\D', '', f.name)))\n",
    "    regstack_images = [read_image(x) for x in regstack_paths if x.suffix.lower() == \".png\"]\n",
    "\n",
    "    raw_length = len(raw_images)\n",
    "    reg_length = len(regstack_images)\n",
    "    if raw_length > 29:\n",
    "        length_skip = raw_length // 29\n",
    "        raw_images = raw_images[::length_skip]\n",
    "    if len(regstack_images) > 29:\n",
    "        length_skip = reg_length // 29\n",
    "        regstack_images = regstack_images[::length_skip]\n",
    "\n",
    "plt.close(\"all\")\n",
    "print(\"done\")"
   ]
  }
 ],
 "metadata": {
  "kernelspec": {
   "display_name": "base",
   "language": "python",
   "name": "python3"
  },
  "language_info": {
   "codemirror_mode": {
    "name": "ipython",
    "version": 3
   },
   "file_extension": ".py",
   "mimetype": "text/x-python",
   "name": "python",
   "nbconvert_exporter": "python",
   "pygments_lexer": "ipython3",
   "version": "3.7.10"
  },
  "orig_nbformat": 4
 },
 "nbformat": 4,
 "nbformat_minor": 2
}
