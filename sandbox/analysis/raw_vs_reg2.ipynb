{
 "cells": [
  {
   "cell_type": "code",
   "execution_count": 1,
   "metadata": {},
   "outputs": [],
   "source": [
    "import cv2\n",
    "import matplotlib.pyplot as plt\n",
    "import matplotlib.animation as animation\n",
    "import numpy as np\n",
    "import pandas as pd\n",
    "import re\n",
    "import seaborn as sns\n",
    "from PIL import Image\n",
    "from pathlib import Path\n",
    "from IPython.display import clear_output\n",
    "\n",
    "from metrics import gmsd, ssim, psnr\n",
    "\n",
    "RAW_DIR = \"/Users/farhanoktavian/imperial/thesis/sandbox/dataset/raw\"\n",
    "STACKREG_DIR = \"/Users/farhanoktavian/imperial/thesis/sandbox/dataset/stackreg\"\n",
    "REG_TYPE = \"ptv\""
   ]
  },
  {
   "cell_type": "code",
   "execution_count": 2,
   "metadata": {},
   "outputs": [],
   "source": [
    "def read_image(img_dir):\n",
    "    img = cv2.imread(str(img_dir), cv2.IMREAD_GRAYSCALE)\n",
    "    return img"
   ]
  },
  {
   "cell_type": "code",
   "execution_count": 3,
   "metadata": {},
   "outputs": [],
   "source": [
    "runs_txt = \"\"\"HS001-Run04\n",
    "    HS002-Run03\n",
    "    HS005-Run08\n",
    "    HS006-Run12\n",
    "    HS007-Run04\n",
    "    HS008-Run04\n",
    "    HS009-Run06\n",
    "    HS011-Run02\n",
    "    HS012-Run04\n",
    "    HS014-Run02\n",
    "    HS015-Run03\n",
    "    HS016-Run04\n",
    "    HS017-Run02\n",
    "    HS019-Run08\n",
    "    HS020-Run06\n",
    "    HS021-Run04\n",
    "    HS022-Run04\n",
    "    HS023-Run08\n",
    "    HS025-Run04\n",
    "    HS026-Run03\n",
    "\"\"\"\n",
    "run_tuples = [tuple(run.split(\"-\")) for run in runs_txt.split()]"
   ]
  },
  {
   "cell_type": "code",
   "execution_count": 6,
   "metadata": {},
   "outputs": [],
   "source": [
    "run_pairs = []\n",
    "for sample_id, run_id in run_tuples:\n",
    "\n",
    "    raw_sample_dir = Path(RAW_DIR) / sample_id\n",
    "    regstack_sample_dir = Path(STACKREG_DIR) / sample_id\n",
    "\n",
    "    raw_runs = sorted([x for x in raw_sample_dir.iterdir() if x.is_dir()])\n",
    "    regstack_runs = sorted([x for x in regstack_sample_dir.iterdir() if x.is_dir()])\n",
    "\n",
    "    for run in regstack_runs:\n",
    "        run_id = run.name\n",
    "        if run_id in [r.name for r in raw_runs]:\n",
    "            run_pairs.append((sample_id, run_id, raw_sample_dir / run_id, run))"
   ]
  },
  {
   "cell_type": "code",
   "execution_count": 13,
   "metadata": {},
   "outputs": [
    {
     "name": "stdout",
     "output_type": "stream",
     "text": [
      "25 and 20 channels\n",
      "done\n"
     ]
    }
   ],
   "source": [
    "START_LAMBDA = 440\n",
    "INTERVAL = 10\n",
    "\n",
    "raw_metrics = {\n",
    "    \"gmsd\": [],\n",
    "    \"ssim\": [],\n",
    "    \"psnr\": []\n",
    "}\n",
    "\n",
    "reg_metrics = {\n",
    "    \"gmsd\": [],\n",
    "    \"ssim\": [],\n",
    "    \"psnr\": []\n",
    "}\n",
    "\n",
    "len_run_pairs = len(run_pairs)\n",
    "for idx, tup in enumerate(run_pairs):\n",
    "    clear_output(wait=True)\n",
    "    print(f\"{idx+1}/{len_run_pairs} runs\")\n",
    "\n",
    "    sample_id, run_id, a, b = tup\n",
    "\n",
    "    raw_images = [read_image(x) for x in sorted(a.iterdir()) if x.suffix.lower() == \".png\"]\n",
    "\n",
    "    # Need to sort by number\n",
    "    regstack_paths = sorted(b.iterdir(), key=lambda f: int(re.sub('\\D', '', f.name)))\n",
    "    regstack_images = [read_image(x) for x in regstack_paths if x.suffix.lower() == \".png\"]\n",
    "\n",
    "    raw_length = len(raw_images)\n",
    "    reg_length = len(regstack_images)\n",
    "    if raw_length > 29:\n",
    "        length_skip = raw_length // 29\n",
    "        raw_images = raw_images[::length_skip]\n",
    "    if len(regstack_images) > 29:\n",
    "        length_skip = reg_length // 29\n",
    "        regstack_images = regstack_images[::length_skip]\n",
    "    \n",
    "    raw_gmsd = 0\n",
    "    raw_ssim = 0\n",
    "    raw_psnr = 0\n",
    "\n",
    "    reg_gmsd = 0\n",
    "    reg_ssim = 0\n",
    "    reg_psnr = 0\n",
    "\n",
    "\n",
    "    iter_count = 0\n",
    "    for i in range(0,29,5):\n",
    "        for j in range(0,29,5):\n",
    "            if i == j:\n",
    "                continue\n",
    "\n",
    "            clear_output(wait=True)\n",
    "            print(f\"{i} and {j} channels\")\n",
    "            iter_count += 1\n",
    "\n",
    "            raw_i = raw_images[i]\n",
    "            raw_j = raw_images[j]\n",
    "\n",
    "            reg_i = regstack_images[i]\n",
    "            reg_j = regstack_images[j]\n",
    "\n",
    "            raw_gmsd += gmsd(raw_i, raw_j)\n",
    "            raw_ssim += ssim(raw_i, raw_j)\n",
    "            raw_psnr += psnr(raw_i, raw_j)\n",
    "\n",
    "            reg_gmsd += gmsd(reg_i, reg_j)\n",
    "            reg_ssim += ssim(reg_i, reg_j)\n",
    "            reg_psnr += psnr(reg_i, reg_j)\n",
    "    \n",
    "    raw_metrics[\"gmsd\"].append(raw_gmsd / iter_count)\n",
    "    raw_metrics[\"ssim\"].append(raw_ssim / iter_count)\n",
    "    raw_metrics[\"psnr\"].append(raw_psnr / iter_count)\n",
    "\n",
    "    reg_metrics[\"gmsd\"].append(reg_gmsd / iter_count)\n",
    "    reg_metrics[\"ssim\"].append(reg_ssim / iter_count)\n",
    "    reg_metrics[\"psnr\"].append(reg_psnr / iter_count)\n",
    "\n",
    "print(\"done\")"
   ]
  },
  {
   "cell_type": "code",
   "execution_count": 36,
   "metadata": {},
   "outputs": [
    {
     "data": {
      "text/html": [
       "<div>\n",
       "<style scoped>\n",
       "    .dataframe tbody tr th:only-of-type {\n",
       "        vertical-align: middle;\n",
       "    }\n",
       "\n",
       "    .dataframe tbody tr th {\n",
       "        vertical-align: top;\n",
       "    }\n",
       "\n",
       "    .dataframe thead th {\n",
       "        text-align: right;\n",
       "    }\n",
       "</style>\n",
       "<table border=\"1\" class=\"dataframe\">\n",
       "  <thead>\n",
       "    <tr style=\"text-align: right;\">\n",
       "      <th></th>\n",
       "      <th>Id</th>\n",
       "      <th>GMSD</th>\n",
       "      <th>SSIM</th>\n",
       "      <th>PSNR</th>\n",
       "      <th>Type</th>\n",
       "    </tr>\n",
       "  </thead>\n",
       "  <tbody>\n",
       "    <tr>\n",
       "      <th>0</th>\n",
       "      <td>HS001-Run04</td>\n",
       "      <td>0.086291</td>\n",
       "      <td>0.450478</td>\n",
       "      <td>13.240851</td>\n",
       "      <td>Raw</td>\n",
       "    </tr>\n",
       "    <tr>\n",
       "      <th>1</th>\n",
       "      <td>HS001-Run04</td>\n",
       "      <td>0.079421</td>\n",
       "      <td>0.473866</td>\n",
       "      <td>13.379825</td>\n",
       "      <td>Registered</td>\n",
       "    </tr>\n",
       "    <tr>\n",
       "      <th>2</th>\n",
       "      <td>HS002-Run03</td>\n",
       "      <td>0.136285</td>\n",
       "      <td>0.325794</td>\n",
       "      <td>10.479830</td>\n",
       "      <td>Raw</td>\n",
       "    </tr>\n",
       "    <tr>\n",
       "      <th>3</th>\n",
       "      <td>HS002-Run03</td>\n",
       "      <td>0.128411</td>\n",
       "      <td>0.363758</td>\n",
       "      <td>10.624484</td>\n",
       "      <td>Registered</td>\n",
       "    </tr>\n",
       "    <tr>\n",
       "      <th>4</th>\n",
       "      <td>HS005-Run08</td>\n",
       "      <td>0.088003</td>\n",
       "      <td>0.405009</td>\n",
       "      <td>15.350354</td>\n",
       "      <td>Raw</td>\n",
       "    </tr>\n",
       "  </tbody>\n",
       "</table>\n",
       "</div>"
      ],
      "text/plain": [
       "            Id      GMSD      SSIM       PSNR        Type\n",
       "0  HS001-Run04  0.086291  0.450478  13.240851         Raw\n",
       "1  HS001-Run04  0.079421  0.473866  13.379825  Registered\n",
       "2  HS002-Run03  0.136285  0.325794  10.479830         Raw\n",
       "3  HS002-Run03  0.128411  0.363758  10.624484  Registered\n",
       "4  HS005-Run08  0.088003  0.405009  15.350354         Raw"
      ]
     },
     "execution_count": 36,
     "metadata": {},
     "output_type": "execute_result"
    }
   ],
   "source": [
    "# df = pd.DataFrame({\n",
    "#     \"id\": [f\"{x[0]}-{x[1]}\" for x in run_tuples],\n",
    "#     \"raw_gmsd\": raw_metrics[\"gmsd\"],\n",
    "#     \"raw_ssim\": raw_metrics[\"ssim\"],\n",
    "#     \"raw_psnr\": raw_metrics[\"psnr\"],\n",
    "#     \"reg_gmsd\": reg_metrics[\"gmsd\"],\n",
    "#     \"reg_ssim\": reg_metrics[\"ssim\"],\n",
    "#     \"reg_psnr\": reg_metrics[\"psnr\"]\n",
    "# })\n",
    "\n",
    "df = pd.DataFrame({\n",
    "    \"Id\": [],\n",
    "    \"GMSD\": [],\n",
    "    \"SSIM\": [],\n",
    "    \"PSNR\": [],\n",
    "    \"Type\": []\n",
    "})\n",
    "\n",
    "for idx, tup in enumerate(run_tuples):\n",
    "    samrun_id = f\"{tup[0]}-{tup[1]}\"\n",
    "\n",
    "    df.loc[len(df)] = {\n",
    "        \"Id\": samrun_id,\n",
    "        \"GMSD\": raw_metrics[\"gmsd\"][idx],\n",
    "        \"SSIM\": raw_metrics[\"ssim\"][idx],\n",
    "        \"PSNR\": raw_metrics[\"psnr\"][idx],\n",
    "        \"Type\": \"Raw\"\n",
    "    }\n",
    "\n",
    "    df.loc[len(df)] = {\n",
    "        \"Id\": samrun_id,\n",
    "        \"GMSD\": reg_metrics[\"gmsd\"][idx],\n",
    "        \"SSIM\": reg_metrics[\"ssim\"][idx],\n",
    "        \"PSNR\": reg_metrics[\"psnr\"][idx],\n",
    "        \"Type\": \"Registered\"\n",
    "    }\n",
    "\n",
    "df.head()"
   ]
  },
  {
   "cell_type": "code",
   "execution_count": 37,
   "metadata": {},
   "outputs": [
    {
     "data": {
      "image/png": "[encoded data removed]",
      "text/plain": [
       "<Figure size 1080x432 with 1 Axes>"
      ]
     },
     "metadata": {
      "needs_background": "light"
     },
     "output_type": "display_data"
    }
   ],
   "source": [
    "# GMSD raw vs reg\n",
    "fig, ax = plt.subplots(figsize=(15, 6))\n",
    "sns.barplot(data=df, x=\"Id\", y=\"GMSD\", hue=\"Type\", ax=ax)\n",
    "plt.xticks(rotation=45)\n",
    "plt.show()"
   ]
  },
  {
   "cell_type": "code",
   "execution_count": 38,
   "metadata": {},
   "outputs": [
    {
     "data": {
      "image/png": "[encoded data removed]",
      "text/plain": [
       "<Figure size 1080x432 with 1 Axes>"
      ]
     },
     "metadata": {
      "needs_background": "light"
     },
     "output_type": "display_data"
    }
   ],
   "source": [
    "# SSIM raw vs reg\n",
    "fig, ax = plt.subplots(figsize=(15, 6))\n",
    "sns.barplot(data=df, x=\"Id\", y=\"SSIM\", hue=\"Type\", ax=ax)\n",
    "plt.xticks(rotation=45)\n",
    "plt.show()"
   ]
  },
  {
   "cell_type": "code",
   "execution_count": 39,
   "metadata": {},
   "outputs": [
    {
     "data": {
      "image/png": "[encoded data removed]",
      "text/plain": [
       "<Figure size 1080x432 with 1 Axes>"
      ]
     },
     "metadata": {
      "needs_background": "light"
     },
     "output_type": "display_data"
    }
   ],
   "source": [
    "# PSNR raw vs reg\n",
    "fig, ax = plt.subplots(figsize=(15, 6))\n",
    "sns.barplot(data=df, x=\"Id\", y=\"PSNR\", hue=\"Type\", ax=ax)\n",
    "plt.xticks(rotation=45)\n",
    "plt.show()"
   ]
  }
 ],
 "metadata": {
  "kernelspec": {
   "display_name": "base",
   "language": "python",
   "name": "python3"
  },
  "language_info": {
   "codemirror_mode": {
    "name": "ipython",
    "version": 3
   },
   "file_extension": ".py",
   "mimetype": "text/x-python",
   "name": "python",
   "nbconvert_exporter": "python",
   "pygments_lexer": "ipython3",
   "version": "3.7.10"
  },
  "orig_nbformat": 4
 },
 "nbformat": 4,
 "nbformat_minor": 2
}
