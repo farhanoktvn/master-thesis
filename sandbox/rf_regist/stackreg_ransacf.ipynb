{
 "cells": [
  {
   "cell_type": "code",
   "execution_count": 15,
   "metadata": {},
   "outputs": [
    {
     "name": "stdout",
     "output_type": "stream",
     "text": [
      "The autoreload extension is already loaded. To reload it, use:\n",
      "  %reload_ext autoreload\n"
     ]
    }
   ],
   "source": [
    "%load_ext autoreload\n",
    "%autoreload 2\n",
    "\n",
    "import cv2\n",
    "import matplotlib.pyplot as plt\n",
    "import numpy as np\n",
    "import time\n",
    "from tqdm.auto import tqdm\n",
    "from IPython.display import clear_output\n",
    "from pathlib import Path\n",
    "\n",
    "from PIL import Image\n",
    "\n",
    "from loader import DataLoader\n",
    "from registration.first_registration import Align\n",
    "from models.ransacflow import register_image\n",
    "\n",
    "DATA_DIR = \"/Users/farhanoktavian/imperial/thesis/sandbox/dataset/raw\"\n",
    "METADATA_DIR = \"/Users/farhanoktavian/imperial/thesis/sandbox/dataset/data.h5\"\n",
    "STACKREG_DIR = Path(\"/Users/farhanoktavian/imperial/thesis/sandbox/dataset/stackreg5\")\n",
    "\n",
    "run_loader = DataLoader(DATA_DIR, METADATA_DIR)"
   ]
  },
  {
   "cell_type": "code",
   "execution_count": 25,
   "metadata": {},
   "outputs": [
    {
     "name": "stdout",
     "output_type": "stream",
     "text": [
      "HS017 - Run01\n"
     ]
    }
   ],
   "source": [
    "sample = run_loader.samples[16]\n",
    "run = sample.runs[0]\n",
    "print(f\"{sample.sample_id} - {run.run_id}\")"
   ]
  },
  {
   "cell_type": "code",
   "execution_count": 26,
   "metadata": {},
   "outputs": [
    {
     "name": "stdout",
     "output_type": "stream",
     "text": [
      "Collection 0/2\n"
     ]
    },
    {
     "name": "stderr",
     "output_type": "stream",
     "text": [
      "100%|██████████| 29/29 [01:59<00:00,  4.11s/it]\n"
     ]
    },
    {
     "name": "stdout",
     "output_type": "stream",
     "text": [
      "Collection 1/2\n"
     ]
    },
    {
     "name": "stderr",
     "output_type": "stream",
     "text": [
      "100%|██████████| 29/29 [02:04<00:00,  4.29s/it]"
     ]
    },
    {
     "name": "stdout",
     "output_type": "stream",
     "text": [
      "Time taken: 244.83328223228455s\n"
     ]
    },
    {
     "name": "stderr",
     "output_type": "stream",
     "text": [
      "\n"
     ]
    }
   ],
   "source": [
    "target_wavelength = 600\n",
    "\n",
    "start_t = time.time()\n",
    "\n",
    "for c in range(run.collection_count):\n",
    "    print(f\"Collection {c}/{run.collection_count}\")\n",
    "    imgs, img_paths = run.get_spectral_images(collection_idx=c, with_path=True)\n",
    "    tgt_img = run.get_spectral_image(wavelength=target_wavelength, collection_idx=c)\n",
    "    for i in tqdm(range(len(imgs))):\n",
    "        img = imgs[i]\n",
    "        img_path = img_paths[i]\n",
    "\n",
    "        blank_img = np.zeros_like(img)\n",
    "        temp_img = cv2.merge([img, blank_img, blank_img])\n",
    "\n",
    "        blank_tgt_img = np.zeros_like(tgt_img)\n",
    "        temp_tgt_img = cv2.merge([tgt_img, blank_tgt_img, blank_tgt_img])\n",
    "\n",
    "        img = register_image(Image.fromarray(temp_img), Image.fromarray(temp_tgt_img))\n",
    "        img = img[:, :, 0]\n",
    "\n",
    "        save_path = STACKREG_DIR / sample.sample_id / run.run_id\n",
    "        save_path.mkdir(parents=True, exist_ok=True)\n",
    "        cv2.imwrite(str(save_path / img_path.name), img)\n",
    "\n",
    "end_t = time.time()\n",
    "print(f\"Time taken: {end_t - start_t}s\")"
   ]
  }
 ],
 "metadata": {
  "kernelspec": {
   "display_name": "base",
   "language": "python",
   "name": "python3"
  },
  "language_info": {
   "codemirror_mode": {
    "name": "ipython",
    "version": 3
   },
   "file_extension": ".py",
   "mimetype": "text/x-python",
   "name": "python",
   "nbconvert_exporter": "python",
   "pygments_lexer": "ipython3",
   "version": "3.7.10"
  },
  "orig_nbformat": 4
 },
 "nbformat": 4,
 "nbformat_minor": 2
}
