{
 "cells": [
  {
   "cell_type": "code",
   "execution_count": 57,
   "metadata": {},
   "outputs": [],
   "source": [
    "import pandas as pd\n",
    "import json"
   ]
  },
  {
   "cell_type": "code",
   "execution_count": 86,
   "metadata": {},
   "outputs": [],
   "source": [
    "class Paper:\n",
    "\n",
    "    def __init__(self, title, db, abstract):\n",
    "        self.title = title\n",
    "        self.db = db\n",
    "        self.abstract = abstract\n",
    "    \n",
    "    def to_dict(self):\n",
    "        return {\n",
    "            \"title\": self.title,\n",
    "            \"abstract\": self.abstract,\n",
    "            \"db\": self.db\n",
    "        }\n",
    "\n",
    "class Papers:\n",
    "\n",
    "    def __init__(self, papers=None):\n",
    "        self.papers = papers\n",
    "    \n",
    "    def to_json(self):\n",
    "        paper_list = [p.to_dict() for p in self.papers]\n",
    "        with open(\"data/papers.json\", \"w\") as f:\n",
    "            json.dump(paper_list, f)\n",
    "    \n",
    "    def from_json(self, fname):\n",
    "        with open(\"data/papers.json\", \"r\") as f:\n",
    "            list_dict = json.load(f)\n",
    "            self.papers = []\n",
    "            for p in list_dict:\n",
    "                paper = Paper(p[\"title\"], p[\"db\"], p[\"abstract\"])\n",
    "                self.papers.append(paper)"
   ]
  },
  {
   "cell_type": "code",
   "execution_count": 89,
   "metadata": {},
   "outputs": [],
   "source": [
    "papers = Papers()\n",
    "papers.from_json(\"data/papers.json\")"
   ]
  }
 ],
 "metadata": {
  "kernelspec": {
   "display_name": "Python 3",
   "language": "python",
   "name": "python3"
  },
  "language_info": {
   "codemirror_mode": {
    "name": "ipython",
    "version": 3
   },
   "file_extension": ".py",
   "mimetype": "text/x-python",
   "name": "python",
   "nbconvert_exporter": "python",
   "pygments_lexer": "ipython3",
   "version": "3.7.10"
  },
  "vscode": {
   "interpreter": {
    "hash": "64badb13e7f0d3cb3621ff57920d449d8655607ef04002ea3377d571a9e44c87"
   }
  }
 },
 "nbformat": 4,
 "nbformat_minor": 4
}
