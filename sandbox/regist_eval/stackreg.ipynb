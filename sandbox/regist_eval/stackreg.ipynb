{
 "cells": [
  {
   "cell_type": "code",
   "execution_count": 4,
   "metadata": {},
   "outputs": [
    {
     "name": "stdout",
     "output_type": "stream",
     "text": [
      "The autoreload extension is already loaded. To reload it, use:\n",
      "  %reload_ext autoreload\n"
     ]
    }
   ],
   "source": [
    "%load_ext autoreload\n",
    "%autoreload 2\n",
    "\n",
    "import cv2\n",
    "import matplotlib.pyplot as plt\n",
    "import numpy as np\n",
    "import pandas as pd\n",
    "import random\n",
    "import shutil\n",
    "import time\n",
    "from keras.models import Model, Sequential\n",
    "from tqdm.auto import tqdm\n",
    "from IPython.display import clear_output\n",
    "from pathlib import Path\n",
    "\n",
    "from PIL import Image\n",
    "\n",
    "from metrics import gmsd, psnr, ssim\n",
    "from models.spectral_encoder import recon_model, ssim_loss\n",
    "from loader.dataloader import DataLoader\n",
    "from reg.reg_d import RegD\n",
    "\n",
    "DATA_DIR = \"/Users/farhanoktavian/imperial/thesis/sandbox/dataset/raw\"\n",
    "METADATA_DIR = \"/Users/farhanoktavian/imperial/thesis/sandbox/dataset/data.h5\"\n",
    "STACKREG_DIR = Path(\"/Users/farhanoktavian/imperial/thesis/sandbox/dataset/stackreg3\")\n",
    "\n",
    "run_loader = DataLoader(DATA_DIR, METADATA_DIR)"
   ]
  },
  {
   "cell_type": "code",
   "execution_count": 5,
   "metadata": {},
   "outputs": [
    {
     "name": "stdout",
     "output_type": "stream",
     "text": [
      "HS001 - Run06\n"
     ]
    }
   ],
   "source": [
    "sample = run_loader.samples[0]\n",
    "run = sample.runs[2]\n",
    "print(f\"{sample.sample_id} - {run.run_id}\")"
   ]
  },
  {
   "cell_type": "code",
   "execution_count": 6,
   "metadata": {},
   "outputs": [
    {
     "name": "stdout",
     "output_type": "stream",
     "text": [
      "Collection 0/1\n",
      "Image 1/29\n",
      "Image 2/29\n",
      "Image 3/29\n",
      "Image 4/29\n",
      "Image 5/29\n"
     ]
    }
   ],
   "source": [
    "target_wavelength = 600\n",
    "\n",
    "reg = RegD()\n",
    "\n",
    "start_t = time.time()\n",
    "\n",
    "for c in range(run.collection_count):\n",
    "    print(f\"Collection {c}/{run.collection_count}\")\n",
    "    imgs, img_paths = run.get_spectral_images(collection_idx=c, with_path=True)\n",
    "    tgt_img = run.get_spectral_image(wavelength=target_wavelength, collection_idx=c)\n",
    "    for i in range(len(imgs)):\n",
    "        print(f\"Image {i+1}/{len(imgs)}\")\n",
    "        img = imgs[i]\n",
    "        img_path = img_paths[i]\n",
    "        img = reg.register(img, tgt_img)\n",
    "\n",
    "        save_path = STACKREG_DIR / sample.sample_id / run.run_id\n",
    "        save_path.mkdir(parents=True, exist_ok=True)\n",
    "        cv2.imwrite(str(save_path / img_path.name), img)\n",
    "\n",
    "end_t = time.time()\n",
    "print(f\"Time taken: {end_t - start_t}s\")"
   ]
  }
 ],
 "metadata": {
  "kernelspec": {
   "display_name": "base",
   "language": "python",
   "name": "python3"
  },
  "language_info": {
   "codemirror_mode": {
    "name": "ipython",
    "version": 3
   },
   "file_extension": ".py",
   "mimetype": "text/x-python",
   "name": "python",
   "nbconvert_exporter": "python",
   "pygments_lexer": "ipython3",
   "version": "3.7.10"
  },
  "orig_nbformat": 4
 },
 "nbformat": 4,
 "nbformat_minor": 2
}
