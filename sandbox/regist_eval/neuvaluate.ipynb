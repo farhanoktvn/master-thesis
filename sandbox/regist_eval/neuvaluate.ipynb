{
 "cells": [
  {
   "cell_type": "code",
   "execution_count": 1,
   "metadata": {},
   "outputs": [],
   "source": [
    "from PIL import Image\n",
    "import cv2\n",
    "import numpy as np\n",
    "\n",
    "from metrics import gmsd, psnr, ssim"
   ]
  },
  {
   "cell_type": "code",
   "execution_count": 7,
   "metadata": {},
   "outputs": [
    {
     "name": "stdout",
     "output_type": "stream",
     "text": [
      "gmsd:\n",
      "Reg A: 1.000\n",
      "\n",
      "psnr:\n",
      "Reg A: 10.969\n",
      "\n",
      "ssim:\n",
      "Reg A: 0.363\n",
      "\n"
     ]
    }
   ],
   "source": [
    "image_labels = [\n",
    "    # \"/Users/farhanoktavian/imperial/thesis/sandbox/regist_eval/images/1/SISLK_Result/Registered_Sequence/frame_0.png\"\n",
    "    \"/Users/farhanoktavian/imperial/thesis/sandbox/regist_eval/images/2/SISLK_Result/Registered_Sequence/frame_0.png\"\n",
    "    # \"/Users/farhanoktavian/imperial/thesis/sandbox/regist_eval/images/3/SISLK_Result/Registered_Sequence/frame_0.png\"\n",
    "]\n",
    "images = [\n",
    "    # \"/Users/farhanoktavian/imperial/thesis/sandbox/regist_eval/images/1/SISLK_Result/Registered_Sequence/frame_1.png\"\n",
    "    \"/Users/farhanoktavian/imperial/thesis/sandbox/regist_eval/images/2/SISLK_Result/Registered_Sequence/frame_1.png\"\n",
    "    # \"/Users/farhanoktavian/imperial/thesis/sandbox/regist_eval/images/3/SISLK_Result/Registered_Sequence/frame_1.png\"\n",
    "]\n",
    "\n",
    "for i in range(len(images)):\n",
    "    for ev in [gmsd, psnr, ssim]:\n",
    "        img_reg_a_cp = cv2.imread(image_labels[i], cv2.IMREAD_GRAYSCALE)\n",
    "        img_reg_b_cp = cv2.imread(images[i], cv2.IMREAD_GRAYSCALE)\n",
    "\n",
    "        # Print metrics\n",
    "        print(f\"{ev.__name__}:\")\n",
    "\n",
    "        print(f\"Reg A: {ev(img_reg_a_cp, img_reg_b_cp):.3f}\")\n",
    "\n",
    "        print()"
   ]
  }
 ],
 "metadata": {
  "kernelspec": {
   "display_name": "base",
   "language": "python",
   "name": "python3"
  },
  "language_info": {
   "codemirror_mode": {
    "name": "ipython",
    "version": 3
   },
   "file_extension": ".py",
   "mimetype": "text/x-python",
   "name": "python",
   "nbconvert_exporter": "python",
   "pygments_lexer": "ipython3",
   "version": "3.7.10"
  },
  "orig_nbformat": 4
 },
 "nbformat": 4,
 "nbformat_minor": 2
}
