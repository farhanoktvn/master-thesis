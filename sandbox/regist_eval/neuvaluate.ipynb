{
 "cells": [
  {
   "cell_type": "code",
   "execution_count": 1,
   "metadata": {},
   "outputs": [],
   "source": [
    "from PIL import Image\n",
    "import cv2\n",
    "import numpy as np\n",
    "\n",
    "from metrics import gmsd, psnr, ssim"
   ]
  },
  {
   "cell_type": "code",
   "execution_count": 2,
   "metadata": {},
   "outputs": [
    {
     "name": "stdout",
     "output_type": "stream",
     "text": [
      "Image 1\n",
      "gmsd:\n",
      "Pre Xiaofei: 0.22825373681689234\n",
      "Post Xiaofei: 0.22856866103482257\n",
      "\n",
      "psnr:\n",
      "Pre Xiaofei: 15.26219345591484\n",
      "Post Xiaofei: 15.44737001492945\n",
      "\n",
      "ssim:\n",
      "Pre Xiaofei: 0.44930111615002577\n",
      "Post Xiaofei: 0.45389609789878893\n",
      "\n",
      "\n",
      "Image 2\n",
      "gmsd:\n",
      "Pre Xiaofei: 0.2414559155837927\n",
      "Post Xiaofei: 0.2423692239462092\n",
      "\n",
      "psnr:\n",
      "Pre Xiaofei: 10.967980813232236\n",
      "Post Xiaofei: 10.968934575707907\n",
      "\n",
      "ssim:\n",
      "Pre Xiaofei: 0.3257616009211925\n",
      "Post Xiaofei: 0.32365319662750075\n",
      "\n",
      "\n",
      "Image 3\n",
      "gmsd:\n",
      "Pre Xiaofei: 0.24186002618551064\n",
      "Post Xiaofei: 0.24747229353185574\n",
      "\n",
      "psnr:\n",
      "Pre Xiaofei: 12.398068393032133\n",
      "Post Xiaofei: 12.357002099006456\n",
      "\n",
      "ssim:\n",
      "Pre Xiaofei: 0.34360556895735717\n",
      "Post Xiaofei: 0.3354255406305917\n",
      "\n",
      "\n"
     ]
    }
   ],
   "source": [
    "image_labels_prev = [\n",
    "    \"/Users/farhanoktavian/imperial/thesis/sandbox/regist_eval/images/1/reg_a.png\",\n",
    "    \"/Users/farhanoktavian/imperial/thesis/sandbox/regist_eval/images/2/reg_a.png\",\n",
    "    \"/Users/farhanoktavian/imperial/thesis/sandbox/regist_eval/images/3/reg_a.png\",\n",
    "]\n",
    "image_labels = [\n",
    "    \"/Users/farhanoktavian/imperial/thesis/sandbox/regist_eval/images/1/SISLK_Result/Registered_Sequence/frame_0.png\",\n",
    "    \"/Users/farhanoktavian/imperial/thesis/sandbox/regist_eval/images/2/SISLK_Result/Registered_Sequence/frame_0.png\",\n",
    "    \"/Users/farhanoktavian/imperial/thesis/sandbox/regist_eval/images/3/SISLK_Result/Registered_Sequence/frame_0.png\",\n",
    "]\n",
    "images_prev = [\n",
    "    \"/Users/farhanoktavian/imperial/thesis/sandbox/regist_eval/images/1/target.png\",\n",
    "    \"/Users/farhanoktavian/imperial/thesis/sandbox/regist_eval/images/2/target.png\",\n",
    "    \"/Users/farhanoktavian/imperial/thesis/sandbox/regist_eval/images/3/target.png\",\n",
    "]\n",
    "images = [\n",
    "    \"/Users/farhanoktavian/imperial/thesis/sandbox/regist_eval/images/1/SISLK_Result/Registered_Sequence/frame_1.png\",\n",
    "    \"/Users/farhanoktavian/imperial/thesis/sandbox/regist_eval/images/2/SISLK_Result/Registered_Sequence/frame_1.png\",\n",
    "    \"/Users/farhanoktavian/imperial/thesis/sandbox/regist_eval/images/3/SISLK_Result/Registered_Sequence/frame_1.png\",\n",
    "]\n",
    "\n",
    "for i in range(len(images)):\n",
    "    print(f\"Image {i+1}\")\n",
    "    for ev in [gmsd, psnr, ssim]:\n",
    "        img_reg_a_prev = cv2.imread(image_labels_prev[i])\n",
    "        img_reg_a = cv2.imread(image_labels[i])\n",
    "        img_reg_b_prev = cv2.imread(images_prev[i])\n",
    "        img_reg_b = cv2.imread(images[i])\n",
    "\n",
    "        # Print metrics\n",
    "        print(f\"{ev.__name__}:\")\n",
    "        print(f\"Pre Xiaofei: {ev(img_reg_a_prev, img_reg_b_prev)}\")\n",
    "        print(f\"Post Xiaofei: {ev(img_reg_a, img_reg_b)}\")\n",
    "        print()\n",
    "    print()"
   ]
  }
 ],
 "metadata": {
  "kernelspec": {
   "display_name": "base",
   "language": "python",
   "name": "python3"
  },
  "language_info": {
   "codemirror_mode": {
    "name": "ipython",
    "version": 3
   },
   "file_extension": ".py",
   "mimetype": "text/x-python",
   "name": "python",
   "nbconvert_exporter": "python",
   "pygments_lexer": "ipython3",
   "version": "3.7.10"
  },
  "orig_nbformat": 4
 },
 "nbformat": 4,
 "nbformat_minor": 2
}
