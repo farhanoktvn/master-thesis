{
 "cells": [
  {
   "cell_type": "code",
   "execution_count": null,
   "metadata": {},
   "outputs": [],
   "source": [
    "%load_ext autoreload\n",
    "%autoreload 2\n",
    "\n",
    "import cv2\n",
    "import matplotlib.pyplot as plt\n",
    "import numpy as np\n",
    "import random\n",
    "from tqdm import tqdm\n",
    "\n",
    "from metrics import gmsd, psnr, ssim\n",
    "from loader.dataloader import DataLoader\n",
    "from reg.reg_a import RegA\n",
    "from reg.reg_b import RegB\n",
    "from models.spectral_encoder import recon_model, ssim_loss\n",
    "\n",
    "DATA_DIR = \"/Users/farhanoktavian/imperial/thesis/sandbox/dataset/raw\"\n",
    "METADATA_DIR = \"/Users/farhanoktavian/imperial/thesis/sandbox/dataset/data.h5\""
   ]
  },
  {
   "attachments": {},
   "cell_type": "markdown",
   "metadata": {},
   "source": [
    "## Load Data"
   ]
  },
  {
   "cell_type": "code",
   "execution_count": null,
   "metadata": {},
   "outputs": [],
   "source": [
    "# Load data\n",
    "run_loader = DataLoader(DATA_DIR, METADATA_DIR)\n",
    "# samples = run_loader.samples[-2:]\n",
    "samples = run_loader.samples"
   ]
  },
  {
   "attachments": {},
   "cell_type": "markdown",
   "metadata": {},
   "source": [
    "## Save spectral images"
   ]
  },
  {
   "cell_type": "code",
   "execution_count": null,
   "metadata": {},
   "outputs": [],
   "source": [
    "# Get spectral images\n",
    "spectral_images = []\n",
    "for sample in samples:\n",
    "    for run in sample.runs:\n",
    "        for i in range(run.collection_count):\n",
    "            images = run.get_spectral_images(i)\n",
    "            images = [cv2.resize(img, (224, 224)) for img in images]\n",
    "            images = [img.astype(np.float32) for img in images]\n",
    "            spectral_images += images\n",
    "\n",
    "spectral_images = np.array(spectral_images).reshape(-1, 224, 224, 1)\n",
    "np.save(\"spectral_images.npy\", spectral_images)"
   ]
  }
 ],
 "metadata": {
  "kernelspec": {
   "display_name": "base",
   "language": "python",
   "name": "python3"
  },
  "language_info": {
   "codemirror_mode": {
    "name": "ipython",
    "version": 3
   },
   "file_extension": ".py",
   "mimetype": "text/x-python",
   "name": "python",
   "nbconvert_exporter": "python",
   "pygments_lexer": "ipython3",
   "version": "3.7.10"
  },
  "orig_nbformat": 4
 },
 "nbformat": 4,
 "nbformat_minor": 2
}
