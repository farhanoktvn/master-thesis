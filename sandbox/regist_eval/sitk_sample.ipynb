{
 "cells": [
  {
   "cell_type": "code",
   "execution_count": 1,
   "metadata": {},
   "outputs": [],
   "source": [
    "import SimpleITK as sitk\n",
    "import utilities as util\n",
    "\n",
    "import numpy as np\n",
    "\n",
    "%matplotlib inline\n",
    "import matplotlib.pyplot as plt\n",
    "from ipywidgets import interact, fixed\n",
    "\n",
    "OUTPUT_DIR = \"output\""
   ]
  },
  {
   "cell_type": "code",
   "execution_count": 2,
   "metadata": {},
   "outputs": [
    {
     "data": {
      "application/vnd.jupyter.widget-view+json": {
       "model_id": "4bb4f2eb191f49b48768729107fbad22",
       "version_major": 2,
       "version_minor": 0
      },
      "text/plain": [
       "interactive(children=(FloatSlider(value=0.0, description='s', max=1.5, min=-1.5), Output()), _dom_classes=('wi…"
      ]
     },
     "metadata": {},
     "output_type": "display_data"
    },
    {
     "data": {
      "text/plain": [
       "<function utilities.display_displacement_scaling_effect(s, original_x_mat, original_y_mat, tx, original_control_point_displacements)>"
      ]
     },
     "execution_count": 2,
     "metadata": {},
     "output_type": "execute_result"
    }
   ],
   "source": [
    "# Create the displacement field.\n",
    "\n",
    "# When working with images the safer thing to do is use the image based constructor,\n",
    "# sitk.DisplacementFieldTransform(my_image), all the fixed parameters will be set correctly and the displacement\n",
    "# field is initialized using the vectors stored in the image. SimpleITK requires that the image's pixel type be\n",
    "# sitk.sitkVectorFloat64.\n",
    "displacement = sitk.DisplacementFieldTransform(2)\n",
    "field_size = [10, 20]\n",
    "field_origin = [-1.0, -1.0]\n",
    "field_spacing = [2.0 / 9.0, 2.0 / 19.0]\n",
    "field_direction = [1, 0, 0, 1]  # direction cosine matrix (row major order)\n",
    "\n",
    "# Concatenate all the information into a single list\n",
    "displacement.SetFixedParameters(\n",
    "    field_size + field_origin + field_spacing + field_direction\n",
    ")\n",
    "# Set the interpolator, either sitkLinear which is default or nearest neighbor\n",
    "displacement.SetInterpolator(sitk.sitkNearestNeighbor)\n",
    "\n",
    "originalDisplacements = np.random.random(len(displacement.GetParameters()))\n",
    "displacement.SetParameters(originalDisplacements)\n",
    "\n",
    "coordsX = np.linspace(\n",
    "    field_origin[0],\n",
    "    field_origin[0] + (field_size[0] - 1) * field_spacing[0],\n",
    "    field_size[0],\n",
    ")\n",
    "coordsY = np.linspace(\n",
    "    field_origin[1],\n",
    "    field_origin[1] + (field_size[1] - 1) * field_spacing[1],\n",
    "    field_size[1],\n",
    ")\n",
    "XX, YY = np.meshgrid(coordsX, coordsY)\n",
    "\n",
    "interact(\n",
    "    util.display_displacement_scaling_effect,\n",
    "    s=(-1.5, 1.5),\n",
    "    original_x_mat=fixed(XX),\n",
    "    original_y_mat=fixed(YY),\n",
    "    tx=fixed(displacement),\n",
    "    original_control_point_displacements=fixed(originalDisplacements),\n",
    ")"
   ]
  }
 ],
 "metadata": {
  "kernelspec": {
   "display_name": "base",
   "language": "python",
   "name": "python3"
  },
  "language_info": {
   "codemirror_mode": {
    "name": "ipython",
    "version": 3
   },
   "file_extension": ".py",
   "mimetype": "text/x-python",
   "name": "python",
   "nbconvert_exporter": "python",
   "pygments_lexer": "ipython3",
   "version": "3.7.10"
  },
  "orig_nbformat": 4
 },
 "nbformat": 4,
 "nbformat_minor": 2
}
